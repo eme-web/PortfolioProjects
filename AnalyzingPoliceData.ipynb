{
 "cells": [
  {
   "cell_type": "markdown",
   "id": "74e9f57e",
   "metadata": {},
   "source": [
    "### Importing the Data sets"
   ]
  },
  {
   "cell_type": "code",
   "execution_count": 140,
   "id": "ce5ff76b-a24c-4b5e-9de3-b59ed310b1b8",
   "metadata": {},
   "outputs": [],
   "source": [
    "# Importing libraries\n",
    "\n",
    "import numpy as np\n",
    "import pandas as pd\n",
    "import seaborn as sns\n",
    "import matplotlib.pyplot as plt\n",
    "plt.style.use('ggplot')\n",
    "\n",
    "%matplotlib inline\n"
   ]
  },
  {
   "cell_type": "code",
   "execution_count": 141,
   "id": "955e779b",
   "metadata": {},
   "outputs": [
    {
     "name": "stderr",
     "output_type": "stream",
     "text": [
      "C:\\Users\\udobo\\anaconda3\\lib\\site-packages\\IPython\\core\\interactiveshell.py:3444: DtypeWarning: Columns (6,17,30) have mixed types.Specify dtype option on import or set low_memory=False.\n",
      "  exec(code_obj, self.user_global_ns, self.user_ns)\n"
     ]
    }
   ],
   "source": [
    "# Read in the data\n",
    "\n",
    "ri = pd.read_csv('ri_data.csv.csv')"
   ]
  },
  {
   "cell_type": "code",
   "execution_count": 142,
   "id": "22778c51",
   "metadata": {
    "scrolled": true
   },
   "outputs": [
    {
     "data": {
      "text/html": [
       "<div>\n",
       "<style scoped>\n",
       "    .dataframe tbody tr th:only-of-type {\n",
       "        vertical-align: middle;\n",
       "    }\n",
       "\n",
       "    .dataframe tbody tr th {\n",
       "        vertical-align: top;\n",
       "    }\n",
       "\n",
       "    .dataframe thead th {\n",
       "        text-align: right;\n",
       "    }\n",
       "</style>\n",
       "<table border=\"1\" class=\"dataframe\">\n",
       "  <thead>\n",
       "    <tr style=\"text-align: right;\">\n",
       "      <th></th>\n",
       "      <th>raw_row_number</th>\n",
       "      <th>date</th>\n",
       "      <th>time</th>\n",
       "      <th>zone</th>\n",
       "      <th>subject_race</th>\n",
       "      <th>subject_sex</th>\n",
       "      <th>department_id</th>\n",
       "      <th>type</th>\n",
       "      <th>arrest_made</th>\n",
       "      <th>citation_issued</th>\n",
       "      <th>...</th>\n",
       "      <th>reason_for_stop</th>\n",
       "      <th>vehicle_make</th>\n",
       "      <th>vehicle_model</th>\n",
       "      <th>raw_BasisForStop</th>\n",
       "      <th>raw_OperatorRace</th>\n",
       "      <th>raw_OperatorSex</th>\n",
       "      <th>raw_ResultOfStop</th>\n",
       "      <th>raw_SearchResultOne</th>\n",
       "      <th>raw_SearchResultTwo</th>\n",
       "      <th>raw_SearchResultThree</th>\n",
       "    </tr>\n",
       "  </thead>\n",
       "  <tbody>\n",
       "    <tr>\n",
       "      <th>0</th>\n",
       "      <td>1</td>\n",
       "      <td>2005-11-22</td>\n",
       "      <td>11:15:00</td>\n",
       "      <td>X3</td>\n",
       "      <td>white</td>\n",
       "      <td>male</td>\n",
       "      <td>200</td>\n",
       "      <td>vehicular</td>\n",
       "      <td>False</td>\n",
       "      <td>True</td>\n",
       "      <td>...</td>\n",
       "      <td>Speeding</td>\n",
       "      <td>NaN</td>\n",
       "      <td>NaN</td>\n",
       "      <td>SP</td>\n",
       "      <td>W</td>\n",
       "      <td>M</td>\n",
       "      <td>M</td>\n",
       "      <td>NaN</td>\n",
       "      <td>NaN</td>\n",
       "      <td>NaN</td>\n",
       "    </tr>\n",
       "    <tr>\n",
       "      <th>1</th>\n",
       "      <td>2</td>\n",
       "      <td>2005-10-01</td>\n",
       "      <td>12:20:00</td>\n",
       "      <td>X3</td>\n",
       "      <td>white</td>\n",
       "      <td>male</td>\n",
       "      <td>200</td>\n",
       "      <td>vehicular</td>\n",
       "      <td>False</td>\n",
       "      <td>True</td>\n",
       "      <td>...</td>\n",
       "      <td>Speeding</td>\n",
       "      <td>NaN</td>\n",
       "      <td>NaN</td>\n",
       "      <td>SP</td>\n",
       "      <td>W</td>\n",
       "      <td>M</td>\n",
       "      <td>M</td>\n",
       "      <td>NaN</td>\n",
       "      <td>NaN</td>\n",
       "      <td>NaN</td>\n",
       "    </tr>\n",
       "    <tr>\n",
       "      <th>2</th>\n",
       "      <td>3</td>\n",
       "      <td>2005-10-01</td>\n",
       "      <td>12:30:00</td>\n",
       "      <td>X3</td>\n",
       "      <td>white</td>\n",
       "      <td>female</td>\n",
       "      <td>200</td>\n",
       "      <td>vehicular</td>\n",
       "      <td>False</td>\n",
       "      <td>True</td>\n",
       "      <td>...</td>\n",
       "      <td>Speeding</td>\n",
       "      <td>NaN</td>\n",
       "      <td>NaN</td>\n",
       "      <td>SP</td>\n",
       "      <td>W</td>\n",
       "      <td>F</td>\n",
       "      <td>M</td>\n",
       "      <td>NaN</td>\n",
       "      <td>NaN</td>\n",
       "      <td>NaN</td>\n",
       "    </tr>\n",
       "    <tr>\n",
       "      <th>3</th>\n",
       "      <td>4</td>\n",
       "      <td>2005-10-01</td>\n",
       "      <td>12:50:00</td>\n",
       "      <td>X3</td>\n",
       "      <td>white</td>\n",
       "      <td>male</td>\n",
       "      <td>200</td>\n",
       "      <td>vehicular</td>\n",
       "      <td>False</td>\n",
       "      <td>True</td>\n",
       "      <td>...</td>\n",
       "      <td>Speeding</td>\n",
       "      <td>NaN</td>\n",
       "      <td>NaN</td>\n",
       "      <td>SP</td>\n",
       "      <td>W</td>\n",
       "      <td>M</td>\n",
       "      <td>M</td>\n",
       "      <td>NaN</td>\n",
       "      <td>NaN</td>\n",
       "      <td>NaN</td>\n",
       "    </tr>\n",
       "    <tr>\n",
       "      <th>4</th>\n",
       "      <td>5</td>\n",
       "      <td>2005-10-01</td>\n",
       "      <td>13:10:00</td>\n",
       "      <td>X3</td>\n",
       "      <td>white</td>\n",
       "      <td>female</td>\n",
       "      <td>200</td>\n",
       "      <td>vehicular</td>\n",
       "      <td>False</td>\n",
       "      <td>True</td>\n",
       "      <td>...</td>\n",
       "      <td>Speeding</td>\n",
       "      <td>NaN</td>\n",
       "      <td>NaN</td>\n",
       "      <td>SP</td>\n",
       "      <td>W</td>\n",
       "      <td>F</td>\n",
       "      <td>M</td>\n",
       "      <td>NaN</td>\n",
       "      <td>NaN</td>\n",
       "      <td>NaN</td>\n",
       "    </tr>\n",
       "  </tbody>\n",
       "</table>\n",
       "<p>5 rows × 31 columns</p>\n",
       "</div>"
      ],
      "text/plain": [
       "   raw_row_number        date      time zone subject_race subject_sex  \\\n",
       "0               1  2005-11-22  11:15:00   X3        white        male   \n",
       "1               2  2005-10-01  12:20:00   X3        white        male   \n",
       "2               3  2005-10-01  12:30:00   X3        white      female   \n",
       "3               4  2005-10-01  12:50:00   X3        white        male   \n",
       "4               5  2005-10-01  13:10:00   X3        white      female   \n",
       "\n",
       "  department_id       type arrest_made citation_issued  ... reason_for_stop  \\\n",
       "0           200  vehicular       False            True  ...        Speeding   \n",
       "1           200  vehicular       False            True  ...        Speeding   \n",
       "2           200  vehicular       False            True  ...        Speeding   \n",
       "3           200  vehicular       False            True  ...        Speeding   \n",
       "4           200  vehicular       False            True  ...        Speeding   \n",
       "\n",
       "  vehicle_make vehicle_model raw_BasisForStop raw_OperatorRace  \\\n",
       "0          NaN           NaN               SP                W   \n",
       "1          NaN           NaN               SP                W   \n",
       "2          NaN           NaN               SP                W   \n",
       "3          NaN           NaN               SP                W   \n",
       "4          NaN           NaN               SP                W   \n",
       "\n",
       "  raw_OperatorSex raw_ResultOfStop raw_SearchResultOne  raw_SearchResultTwo  \\\n",
       "0               M                M                 NaN                  NaN   \n",
       "1               M                M                 NaN                  NaN   \n",
       "2               F                M                 NaN                  NaN   \n",
       "3               M                M                 NaN                  NaN   \n",
       "4               F                M                 NaN                  NaN   \n",
       "\n",
       "  raw_SearchResultThree  \n",
       "0                   NaN  \n",
       "1                   NaN  \n",
       "2                   NaN  \n",
       "3                   NaN  \n",
       "4                   NaN  \n",
       "\n",
       "[5 rows x 31 columns]"
      ]
     },
     "execution_count": 142,
     "metadata": {},
     "output_type": "execute_result"
    }
   ],
   "source": [
    "# Looking at the data\n",
    "ri.head()"
   ]
  },
  {
   "cell_type": "markdown",
   "id": "70fb39dc",
   "metadata": {},
   "source": [
    "### Data Wrangling"
   ]
  },
  {
   "cell_type": "code",
   "execution_count": 143,
   "id": "017b8dad",
   "metadata": {},
   "outputs": [
    {
     "data": {
      "text/plain": [
       "raw_row_number                0\n",
       "date                         10\n",
       "time                         10\n",
       "zone                         10\n",
       "subject_race              29073\n",
       "subject_sex               29097\n",
       "department_id                10\n",
       "type                          0\n",
       "arrest_made               29073\n",
       "citation_issued           29073\n",
       "warning_issued            29073\n",
       "outcome                   35841\n",
       "contraband_found         491919\n",
       "contraband_drugs         493693\n",
       "contraband_weapons       497886\n",
       "contraband_alcohol       508464\n",
       "contraband_other         491919\n",
       "frisk_performed              10\n",
       "search_conducted              0\n",
       "search_basis             491919\n",
       "reason_for_search        491919\n",
       "reason_for_stop           29073\n",
       "vehicle_make             191564\n",
       "vehicle_model            279593\n",
       "raw_BasisForStop          29073\n",
       "raw_OperatorRace          29073\n",
       "raw_OperatorSex           29073\n",
       "raw_ResultOfStop          29073\n",
       "raw_SearchResultOne      491919\n",
       "raw_SearchResultTwo      508862\n",
       "raw_SearchResultThree    509513\n",
       "dtype: int64"
      ]
     },
     "execution_count": 143,
     "metadata": {},
     "output_type": "execute_result"
    }
   ],
   "source": [
    "#Checking for missing values\n",
    "ri.isnull().sum()"
   ]
  },
  {
   "cell_type": "code",
   "execution_count": 144,
   "id": "1b3eacc1",
   "metadata": {
    "scrolled": true
   },
   "outputs": [
    {
     "data": {
      "text/plain": [
       "raw_row_number            int64\n",
       "date                     object\n",
       "time                     object\n",
       "zone                     object\n",
       "subject_race             object\n",
       "subject_sex              object\n",
       "department_id            object\n",
       "type                     object\n",
       "arrest_made              object\n",
       "citation_issued          object\n",
       "warning_issued           object\n",
       "outcome                  object\n",
       "contraband_found         object\n",
       "contraband_drugs         object\n",
       "contraband_weapons       object\n",
       "contraband_alcohol       object\n",
       "contraband_other         object\n",
       "frisk_performed          object\n",
       "search_conducted           bool\n",
       "search_basis             object\n",
       "reason_for_search        object\n",
       "reason_for_stop          object\n",
       "vehicle_make             object\n",
       "vehicle_model            object\n",
       "raw_BasisForStop         object\n",
       "raw_OperatorRace         object\n",
       "raw_OperatorSex          object\n",
       "raw_ResultOfStop         object\n",
       "raw_SearchResultOne      object\n",
       "raw_SearchResultTwo      object\n",
       "raw_SearchResultThree    object\n",
       "dtype: object"
      ]
     },
     "execution_count": 144,
     "metadata": {},
     "output_type": "execute_result"
    }
   ],
   "source": [
    "# Data types for the columns\n",
    "ri.dtypes"
   ]
  },
  {
   "cell_type": "code",
   "execution_count": 146,
   "id": "1b055f4f",
   "metadata": {},
   "outputs": [
    {
     "data": {
      "text/plain": [
       "Index(['raw_row_number', 'date', 'time', 'zone', 'subject_race', 'subject_sex',\n",
       "       'department_id', 'type', 'arrest_made', 'citation_issued',\n",
       "       'warning_issued', 'outcome', 'contraband_found', 'contraband_drugs',\n",
       "       'contraband_weapons', 'contraband_alcohol', 'contraband_other',\n",
       "       'frisk_performed', 'search_conducted', 'search_basis',\n",
       "       'reason_for_search', 'reason_for_stop', 'vehicle_make', 'vehicle_model',\n",
       "       'raw_BasisForStop', 'raw_OperatorRace', 'raw_OperatorSex',\n",
       "       'raw_ResultOfStop', 'raw_SearchResultOne', 'raw_SearchResultTwo',\n",
       "       'raw_SearchResultThree'],\n",
       "      dtype='object')"
      ]
     },
     "execution_count": 146,
     "metadata": {},
     "output_type": "execute_result"
    }
   ],
   "source": [
    "ri.columns"
   ]
  },
  {
   "cell_type": "code",
   "execution_count": 147,
   "id": "1cf5aed9",
   "metadata": {},
   "outputs": [],
   "source": [
    "#pd.set_option('display.max_rows',None)"
   ]
  },
  {
   "cell_type": "code",
   "execution_count": 148,
   "id": "6826106a",
   "metadata": {},
   "outputs": [],
   "source": [
    "#Subsetting the data \n",
    "df= ri[['date','time','zone','subject_race','subject_sex','type','arrest_made','outcome','contraband_drugs','search_conducted','reason_for_search', 'reason_for_stop']]"
   ]
  },
  {
   "cell_type": "code",
   "execution_count": 149,
   "id": "bd3bd406",
   "metadata": {
    "scrolled": true
   },
   "outputs": [
    {
     "data": {
      "text/html": [
       "<div>\n",
       "<style scoped>\n",
       "    .dataframe tbody tr th:only-of-type {\n",
       "        vertical-align: middle;\n",
       "    }\n",
       "\n",
       "    .dataframe tbody tr th {\n",
       "        vertical-align: top;\n",
       "    }\n",
       "\n",
       "    .dataframe thead th {\n",
       "        text-align: right;\n",
       "    }\n",
       "</style>\n",
       "<table border=\"1\" class=\"dataframe\">\n",
       "  <thead>\n",
       "    <tr style=\"text-align: right;\">\n",
       "      <th></th>\n",
       "      <th>date</th>\n",
       "      <th>time</th>\n",
       "      <th>zone</th>\n",
       "      <th>subject_race</th>\n",
       "      <th>subject_sex</th>\n",
       "      <th>type</th>\n",
       "      <th>arrest_made</th>\n",
       "      <th>outcome</th>\n",
       "      <th>contraband_drugs</th>\n",
       "      <th>search_conducted</th>\n",
       "      <th>reason_for_search</th>\n",
       "      <th>reason_for_stop</th>\n",
       "    </tr>\n",
       "  </thead>\n",
       "  <tbody>\n",
       "    <tr>\n",
       "      <th>0</th>\n",
       "      <td>2005-11-22</td>\n",
       "      <td>11:15:00</td>\n",
       "      <td>X3</td>\n",
       "      <td>white</td>\n",
       "      <td>male</td>\n",
       "      <td>vehicular</td>\n",
       "      <td>False</td>\n",
       "      <td>citation</td>\n",
       "      <td>NaN</td>\n",
       "      <td>False</td>\n",
       "      <td>NaN</td>\n",
       "      <td>Speeding</td>\n",
       "    </tr>\n",
       "    <tr>\n",
       "      <th>1</th>\n",
       "      <td>2005-10-01</td>\n",
       "      <td>12:20:00</td>\n",
       "      <td>X3</td>\n",
       "      <td>white</td>\n",
       "      <td>male</td>\n",
       "      <td>vehicular</td>\n",
       "      <td>False</td>\n",
       "      <td>citation</td>\n",
       "      <td>NaN</td>\n",
       "      <td>False</td>\n",
       "      <td>NaN</td>\n",
       "      <td>Speeding</td>\n",
       "    </tr>\n",
       "    <tr>\n",
       "      <th>2</th>\n",
       "      <td>2005-10-01</td>\n",
       "      <td>12:30:00</td>\n",
       "      <td>X3</td>\n",
       "      <td>white</td>\n",
       "      <td>female</td>\n",
       "      <td>vehicular</td>\n",
       "      <td>False</td>\n",
       "      <td>citation</td>\n",
       "      <td>NaN</td>\n",
       "      <td>False</td>\n",
       "      <td>NaN</td>\n",
       "      <td>Speeding</td>\n",
       "    </tr>\n",
       "    <tr>\n",
       "      <th>3</th>\n",
       "      <td>2005-10-01</td>\n",
       "      <td>12:50:00</td>\n",
       "      <td>X3</td>\n",
       "      <td>white</td>\n",
       "      <td>male</td>\n",
       "      <td>vehicular</td>\n",
       "      <td>False</td>\n",
       "      <td>citation</td>\n",
       "      <td>NaN</td>\n",
       "      <td>False</td>\n",
       "      <td>NaN</td>\n",
       "      <td>Speeding</td>\n",
       "    </tr>\n",
       "    <tr>\n",
       "      <th>4</th>\n",
       "      <td>2005-10-01</td>\n",
       "      <td>13:10:00</td>\n",
       "      <td>X3</td>\n",
       "      <td>white</td>\n",
       "      <td>female</td>\n",
       "      <td>vehicular</td>\n",
       "      <td>False</td>\n",
       "      <td>citation</td>\n",
       "      <td>NaN</td>\n",
       "      <td>False</td>\n",
       "      <td>NaN</td>\n",
       "      <td>Speeding</td>\n",
       "    </tr>\n",
       "    <tr>\n",
       "      <th>5</th>\n",
       "      <td>2005-10-01</td>\n",
       "      <td>15:50:00</td>\n",
       "      <td>X3</td>\n",
       "      <td>white</td>\n",
       "      <td>male</td>\n",
       "      <td>vehicular</td>\n",
       "      <td>False</td>\n",
       "      <td>citation</td>\n",
       "      <td>NaN</td>\n",
       "      <td>False</td>\n",
       "      <td>NaN</td>\n",
       "      <td>Other Traffic Violation</td>\n",
       "    </tr>\n",
       "    <tr>\n",
       "      <th>6</th>\n",
       "      <td>2005-09-11</td>\n",
       "      <td>11:45:00</td>\n",
       "      <td>X3</td>\n",
       "      <td>white</td>\n",
       "      <td>male</td>\n",
       "      <td>vehicular</td>\n",
       "      <td>False</td>\n",
       "      <td>citation</td>\n",
       "      <td>NaN</td>\n",
       "      <td>False</td>\n",
       "      <td>NaN</td>\n",
       "      <td>Speeding</td>\n",
       "    </tr>\n",
       "    <tr>\n",
       "      <th>7</th>\n",
       "      <td>2005-09-11</td>\n",
       "      <td>11:45:00</td>\n",
       "      <td>X3</td>\n",
       "      <td>white</td>\n",
       "      <td>female</td>\n",
       "      <td>vehicular</td>\n",
       "      <td>False</td>\n",
       "      <td>citation</td>\n",
       "      <td>NaN</td>\n",
       "      <td>False</td>\n",
       "      <td>NaN</td>\n",
       "      <td>Speeding</td>\n",
       "    </tr>\n",
       "    <tr>\n",
       "      <th>8</th>\n",
       "      <td>2005-10-04</td>\n",
       "      <td>11:55:00</td>\n",
       "      <td>X3</td>\n",
       "      <td>hispanic</td>\n",
       "      <td>male</td>\n",
       "      <td>vehicular</td>\n",
       "      <td>False</td>\n",
       "      <td>citation</td>\n",
       "      <td>NaN</td>\n",
       "      <td>False</td>\n",
       "      <td>NaN</td>\n",
       "      <td>Speeding</td>\n",
       "    </tr>\n",
       "    <tr>\n",
       "      <th>9</th>\n",
       "      <td>2005-10-04</td>\n",
       "      <td>11:55:00</td>\n",
       "      <td>X3</td>\n",
       "      <td>white</td>\n",
       "      <td>male</td>\n",
       "      <td>vehicular</td>\n",
       "      <td>False</td>\n",
       "      <td>citation</td>\n",
       "      <td>NaN</td>\n",
       "      <td>False</td>\n",
       "      <td>NaN</td>\n",
       "      <td>Speeding</td>\n",
       "    </tr>\n",
       "  </tbody>\n",
       "</table>\n",
       "</div>"
      ],
      "text/plain": [
       "         date      time zone subject_race subject_sex       type arrest_made  \\\n",
       "0  2005-11-22  11:15:00   X3        white        male  vehicular       False   \n",
       "1  2005-10-01  12:20:00   X3        white        male  vehicular       False   \n",
       "2  2005-10-01  12:30:00   X3        white      female  vehicular       False   \n",
       "3  2005-10-01  12:50:00   X3        white        male  vehicular       False   \n",
       "4  2005-10-01  13:10:00   X3        white      female  vehicular       False   \n",
       "5  2005-10-01  15:50:00   X3        white        male  vehicular       False   \n",
       "6  2005-09-11  11:45:00   X3        white        male  vehicular       False   \n",
       "7  2005-09-11  11:45:00   X3        white      female  vehicular       False   \n",
       "8  2005-10-04  11:55:00   X3     hispanic        male  vehicular       False   \n",
       "9  2005-10-04  11:55:00   X3        white        male  vehicular       False   \n",
       "\n",
       "    outcome contraband_drugs  search_conducted reason_for_search  \\\n",
       "0  citation              NaN             False               NaN   \n",
       "1  citation              NaN             False               NaN   \n",
       "2  citation              NaN             False               NaN   \n",
       "3  citation              NaN             False               NaN   \n",
       "4  citation              NaN             False               NaN   \n",
       "5  citation              NaN             False               NaN   \n",
       "6  citation              NaN             False               NaN   \n",
       "7  citation              NaN             False               NaN   \n",
       "8  citation              NaN             False               NaN   \n",
       "9  citation              NaN             False               NaN   \n",
       "\n",
       "           reason_for_stop  \n",
       "0                 Speeding  \n",
       "1                 Speeding  \n",
       "2                 Speeding  \n",
       "3                 Speeding  \n",
       "4                 Speeding  \n",
       "5  Other Traffic Violation  \n",
       "6                 Speeding  \n",
       "7                 Speeding  \n",
       "8                 Speeding  \n",
       "9                 Speeding  "
      ]
     },
     "execution_count": 149,
     "metadata": {},
     "output_type": "execute_result"
    }
   ],
   "source": [
    "df.head(10)"
   ]
  },
  {
   "cell_type": "markdown",
   "id": "72e52d93",
   "metadata": {},
   "source": [
    "### Data Cleaning "
   ]
  },
  {
   "cell_type": "code",
   "execution_count": 150,
   "id": "35e2268c",
   "metadata": {},
   "outputs": [
    {
     "name": "stderr",
     "output_type": "stream",
     "text": [
      "C:\\Users\\udobo\\anaconda3\\lib\\site-packages\\pandas\\core\\frame.py:5039: SettingWithCopyWarning: \n",
      "A value is trying to be set on a copy of a slice from a DataFrame\n",
      "\n",
      "See the caveats in the documentation: https://pandas.pydata.org/pandas-docs/stable/user_guide/indexing.html#returning-a-view-versus-a-copy\n",
      "  return super().rename(\n"
     ]
    }
   ],
   "source": [
    "# Renaming columns\n",
    "df.rename(columns={'date':'stop_date', 'time':'stop_time','type':'search_type', 'zone':'district', 'subject_race':'driver_race', 'subject_sex':'driver_gender','outcome':'stop_outcome','arrest_made':'is_arrested','contraband_drugs':'drugs_related_stop','reason_for_search':'violation_raw','reason_for_stop':'violation'},inplace=True)"
   ]
  },
  {
   "cell_type": "code",
   "execution_count": 151,
   "id": "daf95af5",
   "metadata": {},
   "outputs": [
    {
     "data": {
      "text/html": [
       "<div>\n",
       "<style scoped>\n",
       "    .dataframe tbody tr th:only-of-type {\n",
       "        vertical-align: middle;\n",
       "    }\n",
       "\n",
       "    .dataframe tbody tr th {\n",
       "        vertical-align: top;\n",
       "    }\n",
       "\n",
       "    .dataframe thead th {\n",
       "        text-align: right;\n",
       "    }\n",
       "</style>\n",
       "<table border=\"1\" class=\"dataframe\">\n",
       "  <thead>\n",
       "    <tr style=\"text-align: right;\">\n",
       "      <th></th>\n",
       "      <th>stop_date</th>\n",
       "      <th>stop_time</th>\n",
       "      <th>district</th>\n",
       "      <th>driver_race</th>\n",
       "      <th>driver_gender</th>\n",
       "      <th>search_type</th>\n",
       "      <th>is_arrested</th>\n",
       "      <th>stop_outcome</th>\n",
       "      <th>drugs_related_stop</th>\n",
       "      <th>search_conducted</th>\n",
       "      <th>violation_raw</th>\n",
       "      <th>violation</th>\n",
       "    </tr>\n",
       "  </thead>\n",
       "  <tbody>\n",
       "    <tr>\n",
       "      <th>0</th>\n",
       "      <td>2005-11-22</td>\n",
       "      <td>11:15:00</td>\n",
       "      <td>X3</td>\n",
       "      <td>white</td>\n",
       "      <td>male</td>\n",
       "      <td>vehicular</td>\n",
       "      <td>False</td>\n",
       "      <td>citation</td>\n",
       "      <td>NaN</td>\n",
       "      <td>False</td>\n",
       "      <td>NaN</td>\n",
       "      <td>Speeding</td>\n",
       "    </tr>\n",
       "    <tr>\n",
       "      <th>1</th>\n",
       "      <td>2005-10-01</td>\n",
       "      <td>12:20:00</td>\n",
       "      <td>X3</td>\n",
       "      <td>white</td>\n",
       "      <td>male</td>\n",
       "      <td>vehicular</td>\n",
       "      <td>False</td>\n",
       "      <td>citation</td>\n",
       "      <td>NaN</td>\n",
       "      <td>False</td>\n",
       "      <td>NaN</td>\n",
       "      <td>Speeding</td>\n",
       "    </tr>\n",
       "    <tr>\n",
       "      <th>2</th>\n",
       "      <td>2005-10-01</td>\n",
       "      <td>12:30:00</td>\n",
       "      <td>X3</td>\n",
       "      <td>white</td>\n",
       "      <td>female</td>\n",
       "      <td>vehicular</td>\n",
       "      <td>False</td>\n",
       "      <td>citation</td>\n",
       "      <td>NaN</td>\n",
       "      <td>False</td>\n",
       "      <td>NaN</td>\n",
       "      <td>Speeding</td>\n",
       "    </tr>\n",
       "    <tr>\n",
       "      <th>3</th>\n",
       "      <td>2005-10-01</td>\n",
       "      <td>12:50:00</td>\n",
       "      <td>X3</td>\n",
       "      <td>white</td>\n",
       "      <td>male</td>\n",
       "      <td>vehicular</td>\n",
       "      <td>False</td>\n",
       "      <td>citation</td>\n",
       "      <td>NaN</td>\n",
       "      <td>False</td>\n",
       "      <td>NaN</td>\n",
       "      <td>Speeding</td>\n",
       "    </tr>\n",
       "    <tr>\n",
       "      <th>4</th>\n",
       "      <td>2005-10-01</td>\n",
       "      <td>13:10:00</td>\n",
       "      <td>X3</td>\n",
       "      <td>white</td>\n",
       "      <td>female</td>\n",
       "      <td>vehicular</td>\n",
       "      <td>False</td>\n",
       "      <td>citation</td>\n",
       "      <td>NaN</td>\n",
       "      <td>False</td>\n",
       "      <td>NaN</td>\n",
       "      <td>Speeding</td>\n",
       "    </tr>\n",
       "  </tbody>\n",
       "</table>\n",
       "</div>"
      ],
      "text/plain": [
       "    stop_date stop_time district driver_race driver_gender search_type  \\\n",
       "0  2005-11-22  11:15:00       X3       white          male   vehicular   \n",
       "1  2005-10-01  12:20:00       X3       white          male   vehicular   \n",
       "2  2005-10-01  12:30:00       X3       white        female   vehicular   \n",
       "3  2005-10-01  12:50:00       X3       white          male   vehicular   \n",
       "4  2005-10-01  13:10:00       X3       white        female   vehicular   \n",
       "\n",
       "  is_arrested stop_outcome drugs_related_stop  search_conducted violation_raw  \\\n",
       "0       False     citation                NaN             False           NaN   \n",
       "1       False     citation                NaN             False           NaN   \n",
       "2       False     citation                NaN             False           NaN   \n",
       "3       False     citation                NaN             False           NaN   \n",
       "4       False     citation                NaN             False           NaN   \n",
       "\n",
       "  violation  \n",
       "0  Speeding  \n",
       "1  Speeding  \n",
       "2  Speeding  \n",
       "3  Speeding  \n",
       "4  Speeding  "
      ]
     },
     "execution_count": 151,
     "metadata": {},
     "output_type": "execute_result"
    }
   ],
   "source": [
    "df.head()"
   ]
  },
  {
   "cell_type": "code",
   "execution_count": 152,
   "id": "87669c46",
   "metadata": {},
   "outputs": [
    {
     "data": {
      "text/plain": [
       "stop_date                 10\n",
       "stop_time                 10\n",
       "district                  10\n",
       "driver_race            29073\n",
       "driver_gender          29097\n",
       "search_type                0\n",
       "is_arrested            29073\n",
       "stop_outcome           35841\n",
       "drugs_related_stop    493693\n",
       "search_conducted           0\n",
       "violation_raw         491919\n",
       "violation              29073\n",
       "dtype: int64"
      ]
     },
     "execution_count": 152,
     "metadata": {},
     "output_type": "execute_result"
    }
   ],
   "source": [
    "df.isnull().sum()"
   ]
  },
  {
   "cell_type": "code",
   "execution_count": 153,
   "id": "1d9615c4",
   "metadata": {},
   "outputs": [
    {
     "name": "stderr",
     "output_type": "stream",
     "text": [
      "C:\\Users\\udobo\\anaconda3\\lib\\site-packages\\pandas\\util\\_decorators.py:311: SettingWithCopyWarning: \n",
      "A value is trying to be set on a copy of a slice from a DataFrame\n",
      "\n",
      "See the caveats in the documentation: https://pandas.pydata.org/pandas-docs/stable/user_guide/indexing.html#returning-a-view-versus-a-copy\n",
      "  return func(*args, **kwargs)\n"
     ]
    }
   ],
   "source": [
    "df.dropna(subset=['driver_gender'],inplace=True)"
   ]
  },
  {
   "cell_type": "code",
   "execution_count": 154,
   "id": "e79b1913",
   "metadata": {},
   "outputs": [
    {
     "data": {
      "text/plain": [
       "stop_date                  0\n",
       "stop_time                  0\n",
       "district                   0\n",
       "driver_race                0\n",
       "driver_gender              0\n",
       "search_type                0\n",
       "is_arrested                0\n",
       "stop_outcome            6763\n",
       "drugs_related_stop    464596\n",
       "search_conducted           0\n",
       "violation_raw         462822\n",
       "violation                  0\n",
       "dtype: int64"
      ]
     },
     "execution_count": 154,
     "metadata": {},
     "output_type": "execute_result"
    }
   ],
   "source": [
    "df.isnull().sum()"
   ]
  },
  {
   "cell_type": "code",
   "execution_count": 155,
   "id": "e029d3d8",
   "metadata": {},
   "outputs": [
    {
     "data": {
      "text/plain": [
       "(480584, 12)"
      ]
     },
     "execution_count": 155,
     "metadata": {},
     "output_type": "execute_result"
    }
   ],
   "source": [
    "df.shape"
   ]
  },
  {
   "cell_type": "code",
   "execution_count": 156,
   "id": "a5de47b2",
   "metadata": {},
   "outputs": [
    {
     "data": {
      "text/plain": [
       "stop_date             object\n",
       "stop_time             object\n",
       "district              object\n",
       "driver_race           object\n",
       "driver_gender         object\n",
       "search_type           object\n",
       "is_arrested           object\n",
       "stop_outcome          object\n",
       "drugs_related_stop    object\n",
       "search_conducted        bool\n",
       "violation_raw         object\n",
       "violation             object\n",
       "dtype: object"
      ]
     },
     "execution_count": 156,
     "metadata": {},
     "output_type": "execute_result"
    }
   ],
   "source": [
    "df.dtypes"
   ]
  },
  {
   "cell_type": "code",
   "execution_count": 157,
   "id": "1324e09c",
   "metadata": {},
   "outputs": [
    {
     "data": {
      "text/plain": [
       "False    11223\n",
       "True      4765\n",
       "Name: drugs_related_stop, dtype: int64"
      ]
     },
     "execution_count": 157,
     "metadata": {},
     "output_type": "execute_result"
    }
   ],
   "source": [
    "df.drugs_related_stop.value_counts()"
   ]
  },
  {
   "cell_type": "code",
   "execution_count": 158,
   "id": "f561a455",
   "metadata": {},
   "outputs": [
    {
     "name": "stderr",
     "output_type": "stream",
     "text": [
      "C:\\Users\\udobo\\AppData\\Local\\Temp/ipykernel_9796/1755143654.py:1: SettingWithCopyWarning: \n",
      "A value is trying to be set on a copy of a slice from a DataFrame.\n",
      "Try using .loc[row_indexer,col_indexer] = value instead\n",
      "\n",
      "See the caveats in the documentation: https://pandas.pydata.org/pandas-docs/stable/user_guide/indexing.html#returning-a-view-versus-a-copy\n",
      "  df['drugs_related_stop'] = df.drugs_related_stop.astype(\"bool\")\n"
     ]
    }
   ],
   "source": [
    "df['drugs_related_stop'] = df.drugs_related_stop.astype(\"bool\")"
   ]
  },
  {
   "cell_type": "code",
   "execution_count": 159,
   "id": "a616d13d",
   "metadata": {},
   "outputs": [
    {
     "name": "stderr",
     "output_type": "stream",
     "text": [
      "C:\\Users\\udobo\\AppData\\Local\\Temp/ipykernel_9796/3830093069.py:1: SettingWithCopyWarning: \n",
      "A value is trying to be set on a copy of a slice from a DataFrame.\n",
      "Try using .loc[row_indexer,col_indexer] = value instead\n",
      "\n",
      "See the caveats in the documentation: https://pandas.pydata.org/pandas-docs/stable/user_guide/indexing.html#returning-a-view-versus-a-copy\n",
      "  df['is_arrested'] = df.is_arrested.astype(\"bool\")\n"
     ]
    }
   ],
   "source": [
    "df['is_arrested'] = df.is_arrested.astype(\"bool\")"
   ]
  },
  {
   "cell_type": "code",
   "execution_count": 160,
   "id": "c86b394d",
   "metadata": {},
   "outputs": [
    {
     "data": {
      "text/plain": [
       "dtype('bool')"
      ]
     },
     "execution_count": 160,
     "metadata": {},
     "output_type": "execute_result"
    }
   ],
   "source": [
    "df.is_arrested.dtypes"
   ]
  },
  {
   "cell_type": "code",
   "execution_count": 161,
   "id": "c812f4cf",
   "metadata": {},
   "outputs": [],
   "source": [
    "#concatenate stop_date and stop_time (separated by a space)\n",
    "combined = df.stop_date.str.cat(df.stop_time, sep=' ')"
   ]
  },
  {
   "cell_type": "code",
   "execution_count": 162,
   "id": "f0a26196",
   "metadata": {},
   "outputs": [
    {
     "name": "stderr",
     "output_type": "stream",
     "text": [
      "C:\\Users\\udobo\\AppData\\Local\\Temp/ipykernel_9796/651788517.py:1: SettingWithCopyWarning: \n",
      "A value is trying to be set on a copy of a slice from a DataFrame.\n",
      "Try using .loc[row_indexer,col_indexer] = value instead\n",
      "\n",
      "See the caveats in the documentation: https://pandas.pydata.org/pandas-docs/stable/user_guide/indexing.html#returning-a-view-versus-a-copy\n",
      "  df['stop_datetime'] = pd.to_datetime(combined)\n"
     ]
    }
   ],
   "source": [
    "#convert to datetime \n",
    "df['stop_datetime'] = pd.to_datetime(combined)"
   ]
  },
  {
   "cell_type": "code",
   "execution_count": 163,
   "id": "95f42207",
   "metadata": {},
   "outputs": [
    {
     "data": {
      "text/plain": [
       "stop_date                     object\n",
       "stop_time                     object\n",
       "district                      object\n",
       "driver_race                   object\n",
       "driver_gender                 object\n",
       "search_type                   object\n",
       "is_arrested                     bool\n",
       "stop_outcome                  object\n",
       "drugs_related_stop              bool\n",
       "search_conducted                bool\n",
       "violation_raw                 object\n",
       "violation                     object\n",
       "stop_datetime         datetime64[ns]\n",
       "dtype: object"
      ]
     },
     "execution_count": 163,
     "metadata": {},
     "output_type": "execute_result"
    }
   ],
   "source": [
    "df.dtypes"
   ]
  },
  {
   "cell_type": "code",
   "execution_count": 164,
   "id": "db9bbdff",
   "metadata": {},
   "outputs": [],
   "source": [
    "df.set_index('stop_datetime',inplace=True)"
   ]
  },
  {
   "cell_type": "code",
   "execution_count": 165,
   "id": "975bfe12",
   "metadata": {},
   "outputs": [
    {
     "data": {
      "text/plain": [
       "(480584, 12)"
      ]
     },
     "execution_count": 165,
     "metadata": {},
     "output_type": "execute_result"
    }
   ],
   "source": [
    "df.shape"
   ]
  },
  {
   "cell_type": "code",
   "execution_count": 167,
   "id": "240876e7",
   "metadata": {},
   "outputs": [
    {
     "data": {
      "text/plain": [
       "Speeding                            268736\n",
       "Other Traffic Violation              90228\n",
       "Equipment/Inspection Violation       61250\n",
       "Registration Violation               19830\n",
       "Seatbelt Violation                   16324\n",
       "Special Detail/Directed Patrol       13642\n",
       "Call for Service                      7605\n",
       "Violation of City/Town Ordinance      1036\n",
       "Motorist Assist/Courtesy               989\n",
       "APB                                    485\n",
       "Suspicious Person                      342\n",
       "Warrant                                117\n",
       "Name: violation, dtype: int64"
      ]
     },
     "execution_count": 167,
     "metadata": {},
     "output_type": "execute_result"
    }
   ],
   "source": [
    "df.violation.value_counts()"
   ]
  },
  {
   "cell_type": "code",
   "execution_count": 168,
   "id": "ef3b6991",
   "metadata": {},
   "outputs": [],
   "source": [
    "to_drop = ['Warrant','Suspicious Person','APB','Motorist Assist/Courtesy','Call for Service','Special Detail/Directed Patrol']"
   ]
  },
  {
   "cell_type": "code",
   "execution_count": 169,
   "id": "d4a0acf2",
   "metadata": {},
   "outputs": [],
   "source": [
    "df = df[~df['violation'].isin(to_drop)]"
   ]
  },
  {
   "cell_type": "code",
   "execution_count": 170,
   "id": "718e51e0",
   "metadata": {},
   "outputs": [
    {
     "data": {
      "text/plain": [
       "Speeding                            0.587524\n",
       "Other Traffic Violation             0.197261\n",
       "Equipment/Inspection Violation      0.133908\n",
       "Registration Violation              0.043353\n",
       "Seatbelt Violation                  0.035688\n",
       "Violation of City/Town Ordinance    0.002265\n",
       "Name: violation, dtype: float64"
      ]
     },
     "execution_count": 170,
     "metadata": {},
     "output_type": "execute_result"
    }
   ],
   "source": [
    "df['violation'].value_counts(normalize=True)"
   ]
  },
  {
   "cell_type": "code",
   "execution_count": 171,
   "id": "368a1b7f",
   "metadata": {},
   "outputs": [],
   "source": [
    "#Do the gender commit different violations?\n",
    "#create a Dataframe of female drivers\n",
    "female_driver = df[df.driver_gender =='female']\n"
   ]
  },
  {
   "cell_type": "code",
   "execution_count": 172,
   "id": "5572b368",
   "metadata": {},
   "outputs": [],
   "source": [
    "male_driver = df[df.driver_gender =='male']"
   ]
  },
  {
   "cell_type": "markdown",
   "id": "adeb6f21",
   "metadata": {},
   "source": [
    "### Exploratory Data Analysis"
   ]
  },
  {
   "cell_type": "markdown",
   "id": "999dfaba",
   "metadata": {},
   "source": [
    "#### Research queston1: Is there any comparison in violation among gender"
   ]
  },
  {
   "cell_type": "code",
   "execution_count": 173,
   "id": "802620ca",
   "metadata": {},
   "outputs": [
    {
     "data": {
      "text/plain": [
       "Speeding                            0.553412\n",
       "Other Traffic Violation             0.219248\n",
       "Equipment/Inspection Violation      0.143133\n",
       "Registration Violation              0.042993\n",
       "Seatbelt Violation                  0.038728\n",
       "Violation of City/Town Ordinance    0.002486\n",
       "Name: violation, dtype: float64"
      ]
     },
     "execution_count": 173,
     "metadata": {},
     "output_type": "execute_result"
    }
   ],
   "source": [
    "male_driver.violation.value_counts(normalize=True)"
   ]
  },
  {
   "cell_type": "code",
   "execution_count": 174,
   "id": "fbcac437",
   "metadata": {},
   "outputs": [
    {
     "data": {
      "text/plain": [
       "Speeding                            0.675729\n",
       "Other Traffic Violation             0.140409\n",
       "Equipment/Inspection Violation      0.110055\n",
       "Registration Violation              0.044284\n",
       "Seatbelt Violation                  0.027829\n",
       "Violation of City/Town Ordinance    0.001693\n",
       "Name: violation, dtype: float64"
      ]
     },
     "execution_count": 174,
     "metadata": {},
     "output_type": "execute_result"
    }
   ],
   "source": [
    "female_driver.violation.value_counts(normalize=True)"
   ]
  },
  {
   "cell_type": "markdown",
   "id": "38fce409",
   "metadata": {},
   "source": [
    "#### Research question2: Does gender affect who gets a ticket for speeding?\n"
   ]
  },
  {
   "cell_type": "code",
   "execution_count": 175,
   "id": "8ebeaed1",
   "metadata": {},
   "outputs": [],
   "source": [
    "# Create a dataframe for female drivers stopped for speeding\n",
    "# Filtering by multiple conditions\n",
    "female_and_speeding = df[(df.driver_gender =='female') & (df.violation =='Speeding')]"
   ]
  },
  {
   "cell_type": "code",
   "execution_count": 176,
   "id": "b35d8d65",
   "metadata": {},
   "outputs": [],
   "source": [
    "male_and_speeding = df[(df.driver_gender =='male') & (df.violation =='Speeding')]"
   ]
  },
  {
   "cell_type": "markdown",
   "id": "cabdb870",
   "metadata": {},
   "source": [
    "#### Research question3: Is there any comparison in speeding outcomes among gender"
   ]
  },
  {
   "cell_type": "code",
   "execution_count": 177,
   "id": "d2a6bc9e",
   "metadata": {},
   "outputs": [
    {
     "data": {
      "text/plain": [
       "citation    0.954609\n",
       "warning     0.039059\n",
       "arrest      0.006332\n",
       "Name: stop_outcome, dtype: float64"
      ]
     },
     "execution_count": 177,
     "metadata": {},
     "output_type": "execute_result"
    }
   ],
   "source": [
    "female_and_speeding.stop_outcome.value_counts(normalize=True)"
   ]
  },
  {
   "cell_type": "code",
   "execution_count": 178,
   "id": "73f76a6d",
   "metadata": {},
   "outputs": [
    {
     "data": {
      "text/plain": [
       "citation    0.946763\n",
       "warning     0.036167\n",
       "arrest      0.017070\n",
       "Name: stop_outcome, dtype: float64"
      ]
     },
     "execution_count": 178,
     "metadata": {},
     "output_type": "execute_result"
    }
   ],
   "source": [
    "male_and_speeding.stop_outcome.value_counts(normalize=True)"
   ]
  },
  {
   "cell_type": "markdown",
   "id": "3b08b478",
   "metadata": {},
   "source": [
    "#### Interesting! The numbers are similar for males and females: about 95% of stops for speeding result in a ticket. Thus, the data fails to show that gender has an impact on who gets a ticket for speeding."
   ]
  },
  {
   "cell_type": "code",
   "execution_count": 179,
   "id": "925f7ef4",
   "metadata": {},
   "outputs": [
    {
     "data": {
      "text/plain": [
       "0.03655193220872577"
      ]
     },
     "execution_count": 179,
     "metadata": {},
     "output_type": "execute_result"
    }
   ],
   "source": [
    "df.search_conducted.mean()"
   ]
  },
  {
   "cell_type": "code",
   "execution_count": 180,
   "id": "545de95d",
   "metadata": {},
   "outputs": [
    {
     "data": {
      "text/plain": [
       "0.018014628066132028"
      ]
     },
     "execution_count": 180,
     "metadata": {},
     "output_type": "execute_result"
    }
   ],
   "source": [
    "df[df.driver_gender == \"female\"].search_conducted.mean()"
   ]
  },
  {
   "cell_type": "markdown",
   "id": "dfa26cb6",
   "metadata": {},
   "source": [
    "#### Research question4: Does gender affect whose vehicle is searched?"
   ]
  },
  {
   "cell_type": "code",
   "execution_count": 181,
   "id": "2602b6ad",
   "metadata": {},
   "outputs": [
    {
     "data": {
      "text/plain": [
       "driver_gender  violation                       \n",
       "female         Equipment/Inspection Violation      0.040245\n",
       "               Other Traffic Violation             0.038021\n",
       "               Registration Violation              0.054700\n",
       "               Seatbelt Violation                  0.017746\n",
       "               Speeding                            0.007738\n",
       "               Violation of City/Town Ordinance    0.060185\n",
       "male           Equipment/Inspection Violation      0.070916\n",
       "               Other Traffic Violation             0.059156\n",
       "               Registration Violation              0.103589\n",
       "               Seatbelt Violation                  0.031705\n",
       "               Speeding                            0.026630\n",
       "               Violation of City/Town Ordinance    0.073171\n",
       "Name: search_conducted, dtype: float64"
      ]
     },
     "execution_count": 181,
     "metadata": {},
     "output_type": "execute_result"
    }
   ],
   "source": [
    "df.groupby(['driver_gender','violation']).search_conducted.mean()"
   ]
  },
  {
   "cell_type": "code",
   "execution_count": 182,
   "id": "e8edb2c4",
   "metadata": {},
   "outputs": [],
   "source": [
    "df['inventory'] = df.violation_raw.str.contains(\"Inventory\",na=False)"
   ]
  },
  {
   "cell_type": "code",
   "execution_count": 183,
   "id": "a2be14c6",
   "metadata": {},
   "outputs": [
    {
     "data": {
      "text/plain": [
       "2049"
      ]
     },
     "execution_count": 183,
     "metadata": {},
     "output_type": "execute_result"
    }
   ],
   "source": [
    "df.inventory.sum()"
   ]
  },
  {
   "cell_type": "code",
   "execution_count": 184,
   "id": "6c967354",
   "metadata": {},
   "outputs": [],
   "source": [
    "searched = df[df.search_conducted ==True]"
   ]
  },
  {
   "cell_type": "code",
   "execution_count": 185,
   "id": "2018bed3",
   "metadata": {},
   "outputs": [
    {
     "data": {
      "text/plain": [
       "0.12255517674502063"
      ]
     },
     "execution_count": 185,
     "metadata": {},
     "output_type": "execute_result"
    }
   ],
   "source": [
    "searched.inventory.mean()"
   ]
  },
  {
   "cell_type": "code",
   "execution_count": 186,
   "id": "b51c59bb",
   "metadata": {},
   "outputs": [
    {
     "data": {
      "text/plain": [
       "driver_gender\n",
       "female    0.144038\n",
       "male      0.119132\n",
       "Name: inventory, dtype: float64"
      ]
     },
     "execution_count": 186,
     "metadata": {},
     "output_type": "execute_result"
    }
   ],
   "source": [
    "searched.groupby('driver_gender').inventory.mean()"
   ]
  },
  {
   "cell_type": "code",
   "execution_count": 187,
   "id": "c8985bf4",
   "metadata": {},
   "outputs": [
    {
     "data": {
      "text/plain": [
       "stop_datetime\n",
       "0     0.049004\n",
       "1     0.062013\n",
       "2     0.056055\n",
       "3     0.048708\n",
       "4     0.040422\n",
       "5     0.017372\n",
       "6     0.011738\n",
       "7     0.012681\n",
       "8     0.018094\n",
       "9     0.023758\n",
       "10    0.025348\n",
       "11    0.026767\n",
       "12    0.030581\n",
       "13    0.029634\n",
       "14    0.030026\n",
       "15    0.030337\n",
       "16    0.030592\n",
       "17    0.032922\n",
       "18    0.033554\n",
       "19    0.027290\n",
       "20    0.034754\n",
       "21    0.051530\n",
       "22    0.039861\n",
       "23    0.042041\n",
       "Name: is_arrested, dtype: float64"
      ]
     },
     "execution_count": 187,
     "metadata": {},
     "output_type": "execute_result"
    }
   ],
   "source": [
    "#Calculate the hourly arrest rate\n",
    "df.groupby(df.index.hour).is_arrested.mean()"
   ]
  },
  {
   "cell_type": "code",
   "execution_count": 188,
   "id": "84359bed",
   "metadata": {},
   "outputs": [],
   "source": [
    "hourly_arrest_rate = df.groupby(df.index.hour).is_arrested.mean()"
   ]
  },
  {
   "cell_type": "markdown",
   "id": "2e70fb52",
   "metadata": {},
   "source": [
    "\n",
    "#### Research question5: Does time of day affect arrest rate?"
   ]
  },
  {
   "cell_type": "code",
   "execution_count": 189,
   "id": "a0e0292d",
   "metadata": {},
   "outputs": [
    {
     "data": {
      "image/png": "[encoded data removed]",
      "text/plain": [
       "<Figure size 432x288 with 1 Axes>"
      ]
     },
     "metadata": {
      "needs_background": "light"
     },
     "output_type": "display_data"
    }
   ],
   "source": [
    "# Plotting the hourly arrest rate\n",
    "hourly_arrest_rate.plot()\n",
    "plt.xlabel('Hour')\n",
    "plt.ylabel('Arrest Rate')\n",
    "plt.title('Arrest Rate by Time of Day')\n",
    "plt.show()"
   ]
  },
  {
   "cell_type": "markdown",
   "id": "16b9e8a1",
   "metadata": {},
   "source": [
    "#### Research question6: Is there any comparison between drug and search rates?"
   ]
  },
  {
   "cell_type": "code",
   "execution_count": 190,
   "id": "6d3c6e44",
   "metadata": {},
   "outputs": [
    {
     "data": {
      "text/plain": [
       "stop_datetime\n",
       "2005-12-31    0.964585\n",
       "2006-12-31    0.973191\n",
       "2007-12-31    0.972007\n",
       "2008-12-31    0.973289\n",
       "2009-12-31    0.965965\n",
       "2010-12-31    0.971806\n",
       "2011-12-31    0.976891\n",
       "2012-12-31    0.980898\n",
       "2013-12-31    0.985882\n",
       "2014-12-31    0.985324\n",
       "2015-12-31    0.986532\n",
       "Freq: A-DEC, Name: drugs_related_stop, dtype: float64"
      ]
     },
     "execution_count": 190,
     "metadata": {},
     "output_type": "execute_result"
    }
   ],
   "source": [
    "# Resampling is when you change the frequency of the the time series.\n",
    "# Calculating the annual rate of drug_related stops\n",
    "annual_drug_rate = df.drugs_related_stop.resample('A').mean()\n",
    "annual_drug_rate"
   ]
  },
  {
   "cell_type": "code",
   "execution_count": 191,
   "id": "77f8b36b",
   "metadata": {},
   "outputs": [
    {
     "data": {
      "image/png": "[encoded data removed]",
      "text/plain": [
       "<Figure size 432x288 with 1 Axes>"
      ]
     },
     "metadata": {
      "needs_background": "light"
     },
     "output_type": "display_data"
    }
   ],
   "source": [
    "annual_drug_rate.plot()\n",
    "plt.show()"
   ]
  },
  {
   "cell_type": "code",
   "execution_count": 192,
   "id": "db208baf",
   "metadata": {},
   "outputs": [],
   "source": [
    "annual_search_rate = df.search_conducted.resample('A').mean()"
   ]
  },
  {
   "cell_type": "code",
   "execution_count": 193,
   "id": "930234bf",
   "metadata": {},
   "outputs": [],
   "source": [
    "annual = pd.concat([annual_drug_rate,annual_search_rate],axis=1)"
   ]
  },
  {
   "cell_type": "code",
   "execution_count": 194,
   "id": "82886a0a",
   "metadata": {},
   "outputs": [
    {
     "data": {
      "image/png": "[encoded data removed]",
      "text/plain": [
       "<Figure size 432x288 with 2 Axes>"
      ]
     },
     "metadata": {
      "needs_background": "light"
     },
     "output_type": "display_data"
    }
   ],
   "source": [
    "annual.plot(subplots=True)\n",
    "plt.show()"
   ]
  },
  {
   "cell_type": "markdown",
   "id": "cbbb6d18",
   "metadata": {},
   "source": [
    "#### The state of Rhode Island is broken into six police districts, also known as zones. How do the zones compare in terms of what violations are caught by police?\n"
   ]
  },
  {
   "cell_type": "markdown",
   "id": "73f371ef",
   "metadata": {},
   "source": [
    "#### Research question7: what violations are caught in each district?"
   ]
  },
  {
   "cell_type": "code",
   "execution_count": 195,
   "id": "e4c141a6",
   "metadata": {},
   "outputs": [
    {
     "data": {
      "text/html": [
       "<div>\n",
       "<style scoped>\n",
       "    .dataframe tbody tr th:only-of-type {\n",
       "        vertical-align: middle;\n",
       "    }\n",
       "\n",
       "    .dataframe tbody tr th {\n",
       "        vertical-align: top;\n",
       "    }\n",
       "\n",
       "    .dataframe thead th {\n",
       "        text-align: right;\n",
       "    }\n",
       "</style>\n",
       "<table border=\"1\" class=\"dataframe\">\n",
       "  <thead>\n",
       "    <tr style=\"text-align: right;\">\n",
       "      <th>violation</th>\n",
       "      <th>Equipment/Inspection Violation</th>\n",
       "      <th>Other Traffic Violation</th>\n",
       "      <th>Registration Violation</th>\n",
       "      <th>Seatbelt Violation</th>\n",
       "      <th>Speeding</th>\n",
       "      <th>Violation of City/Town Ordinance</th>\n",
       "    </tr>\n",
       "    <tr>\n",
       "      <th>district</th>\n",
       "      <th></th>\n",
       "      <th></th>\n",
       "      <th></th>\n",
       "      <th></th>\n",
       "      <th></th>\n",
       "      <th></th>\n",
       "    </tr>\n",
       "  </thead>\n",
       "  <tbody>\n",
       "    <tr>\n",
       "      <th>K1</th>\n",
       "      <td>3786</td>\n",
       "      <td>7127</td>\n",
       "      <td>628</td>\n",
       "      <td>1</td>\n",
       "      <td>33067</td>\n",
       "      <td>21</td>\n",
       "    </tr>\n",
       "    <tr>\n",
       "      <th>K2</th>\n",
       "      <td>11285</td>\n",
       "      <td>16440</td>\n",
       "      <td>4056</td>\n",
       "      <td>2897</td>\n",
       "      <td>57500</td>\n",
       "      <td>237</td>\n",
       "    </tr>\n",
       "    <tr>\n",
       "      <th>K3</th>\n",
       "      <td>12959</td>\n",
       "      <td>16218</td>\n",
       "      <td>3871</td>\n",
       "      <td>3660</td>\n",
       "      <td>68234</td>\n",
       "      <td>194</td>\n",
       "    </tr>\n",
       "    <tr>\n",
       "      <th>X1</th>\n",
       "      <td>1725</td>\n",
       "      <td>3711</td>\n",
       "      <td>192</td>\n",
       "      <td>451</td>\n",
       "      <td>6393</td>\n",
       "      <td>6</td>\n",
       "    </tr>\n",
       "    <tr>\n",
       "      <th>X3</th>\n",
       "      <td>11520</td>\n",
       "      <td>17178</td>\n",
       "      <td>3532</td>\n",
       "      <td>4445</td>\n",
       "      <td>48687</td>\n",
       "      <td>282</td>\n",
       "    </tr>\n",
       "    <tr>\n",
       "      <th>X4</th>\n",
       "      <td>19975</td>\n",
       "      <td>29554</td>\n",
       "      <td>7551</td>\n",
       "      <td>4870</td>\n",
       "      <td>54855</td>\n",
       "      <td>296</td>\n",
       "    </tr>\n",
       "  </tbody>\n",
       "</table>\n",
       "</div>"
      ],
      "text/plain": [
       "violation  Equipment/Inspection Violation  Other Traffic Violation  \\\n",
       "district                                                             \n",
       "K1                                   3786                     7127   \n",
       "K2                                  11285                    16440   \n",
       "K3                                  12959                    16218   \n",
       "X1                                   1725                     3711   \n",
       "X3                                  11520                    17178   \n",
       "X4                                  19975                    29554   \n",
       "\n",
       "violation  Registration Violation  Seatbelt Violation  Speeding  \\\n",
       "district                                                          \n",
       "K1                            628                   1     33067   \n",
       "K2                           4056                2897     57500   \n",
       "K3                           3871                3660     68234   \n",
       "X1                            192                 451      6393   \n",
       "X3                           3532                4445     48687   \n",
       "X4                           7551                4870     54855   \n",
       "\n",
       "violation  Violation of City/Town Ordinance  \n",
       "district                                     \n",
       "K1                                       21  \n",
       "K2                                      237  \n",
       "K3                                      194  \n",
       "X1                                        6  \n",
       "X3                                      282  \n",
       "X4                                      296  "
      ]
     },
     "execution_count": 195,
     "metadata": {},
     "output_type": "execute_result"
    }
   ],
   "source": [
    "all_zones = pd.crosstab(df.district,df.violation)\n",
    "all_zones"
   ]
  },
  {
   "cell_type": "code",
   "execution_count": 196,
   "id": "4f23eaeb",
   "metadata": {},
   "outputs": [
    {
     "data": {
      "text/html": [
       "<div>\n",
       "<style scoped>\n",
       "    .dataframe tbody tr th:only-of-type {\n",
       "        vertical-align: middle;\n",
       "    }\n",
       "\n",
       "    .dataframe tbody tr th {\n",
       "        vertical-align: top;\n",
       "    }\n",
       "\n",
       "    .dataframe thead th {\n",
       "        text-align: right;\n",
       "    }\n",
       "</style>\n",
       "<table border=\"1\" class=\"dataframe\">\n",
       "  <thead>\n",
       "    <tr style=\"text-align: right;\">\n",
       "      <th>violation</th>\n",
       "      <th>Equipment/Inspection Violation</th>\n",
       "      <th>Other Traffic Violation</th>\n",
       "      <th>Registration Violation</th>\n",
       "      <th>Seatbelt Violation</th>\n",
       "      <th>Speeding</th>\n",
       "      <th>Violation of City/Town Ordinance</th>\n",
       "    </tr>\n",
       "    <tr>\n",
       "      <th>district</th>\n",
       "      <th></th>\n",
       "      <th></th>\n",
       "      <th></th>\n",
       "      <th></th>\n",
       "      <th></th>\n",
       "      <th></th>\n",
       "    </tr>\n",
       "  </thead>\n",
       "  <tbody>\n",
       "    <tr>\n",
       "      <th>K1</th>\n",
       "      <td>3786</td>\n",
       "      <td>7127</td>\n",
       "      <td>628</td>\n",
       "      <td>1</td>\n",
       "      <td>33067</td>\n",
       "      <td>21</td>\n",
       "    </tr>\n",
       "    <tr>\n",
       "      <th>K2</th>\n",
       "      <td>11285</td>\n",
       "      <td>16440</td>\n",
       "      <td>4056</td>\n",
       "      <td>2897</td>\n",
       "      <td>57500</td>\n",
       "      <td>237</td>\n",
       "    </tr>\n",
       "    <tr>\n",
       "      <th>K3</th>\n",
       "      <td>12959</td>\n",
       "      <td>16218</td>\n",
       "      <td>3871</td>\n",
       "      <td>3660</td>\n",
       "      <td>68234</td>\n",
       "      <td>194</td>\n",
       "    </tr>\n",
       "  </tbody>\n",
       "</table>\n",
       "</div>"
      ],
      "text/plain": [
       "violation  Equipment/Inspection Violation  Other Traffic Violation  \\\n",
       "district                                                             \n",
       "K1                                   3786                     7127   \n",
       "K2                                  11285                    16440   \n",
       "K3                                  12959                    16218   \n",
       "\n",
       "violation  Registration Violation  Seatbelt Violation  Speeding  \\\n",
       "district                                                          \n",
       "K1                            628                   1     33067   \n",
       "K2                           4056                2897     57500   \n",
       "K3                           3871                3660     68234   \n",
       "\n",
       "violation  Violation of City/Town Ordinance  \n",
       "district                                     \n",
       "K1                                       21  \n",
       "K2                                      237  \n",
       "K3                                      194  "
      ]
     },
     "execution_count": 196,
     "metadata": {},
     "output_type": "execute_result"
    }
   ],
   "source": [
    "k_zones = all_zones.loc['K1':'K3']\n",
    "k_zones"
   ]
  },
  {
   "cell_type": "markdown",
   "id": "f26306f8",
   "metadata": {},
   "source": [
    "#####  The vast majority of traffic stops in Zone K1 are for speeding, and Zones K2 and K3 are remarkably similar to one another in terms of violations."
   ]
  },
  {
   "cell_type": "code",
   "execution_count": 197,
   "id": "4c634033",
   "metadata": {},
   "outputs": [
    {
     "data": {
      "image/png": "[encoded data removed]",
      "text/plain": [
       "<Figure size 432x288 with 1 Axes>"
      ]
     },
     "metadata": {
      "needs_background": "light"
     },
     "output_type": "display_data"
    }
   ],
   "source": [
    "k_zones.plot(kind='bar')\n",
    "plt.show()"
   ]
  },
  {
   "cell_type": "code",
   "execution_count": 198,
   "id": "883a64b2",
   "metadata": {},
   "outputs": [
    {
     "data": {
      "text/plain": [
       "violation\n",
       "Equipment/Inspection Violation      0.063886\n",
       "Other Traffic Violation             0.054961\n",
       "Registration Violation              0.089662\n",
       "Seatbelt Violation                  0.028669\n",
       "Speeding                            0.020570\n",
       "Violation of City/Town Ordinance    0.070463\n",
       "Name: search_conducted, dtype: float64"
      ]
     },
     "execution_count": 198,
     "metadata": {},
     "output_type": "execute_result"
    }
   ],
   "source": [
    "search_rate = df.groupby('violation').search_conducted.mean()\n",
    "search_rate"
   ]
  },
  {
   "cell_type": "code",
   "execution_count": 199,
   "id": "1d5c2545",
   "metadata": {},
   "outputs": [
    {
     "data": {
      "image/png": "[encoded data removed]",
      "text/plain": [
       "<Figure size 432x288 with 1 Axes>"
      ]
     },
     "metadata": {
      "needs_background": "light"
     },
     "output_type": "display_data"
    }
   ],
   "source": [
    "search_rate.sort_values().plot(kind='barh')\n",
    "plt.show()"
   ]
  },
  {
   "cell_type": "code",
   "execution_count": null,
   "id": "c1077cf5",
   "metadata": {},
   "outputs": [],
   "source": []
  },
  {
   "cell_type": "markdown",
   "id": "5e4bae31",
   "metadata": {},
   "source": [
    "### Conclusion "
   ]
  },
  {
   "cell_type": "markdown",
   "id": "e1009654",
   "metadata": {},
   "source": [
    "### Limitation"
   ]
  }
 ],
 "metadata": {
  "kernelspec": {
   "display_name": "Python 3 (ipykernel)",
   "language": "python",
   "name": "python3"
  },
  "language_info": {
   "codemirror_mode": {
    "name": "ipython",
    "version": 3
   },
   "file_extension": ".py",
   "mimetype": "text/x-python",
   "name": "python",
   "nbconvert_exporter": "python",
   "pygments_lexer": "ipython3",
   "version": "3.9.7"
  }
 },
 "nbformat": 4,
 "nbformat_minor": 5
}
