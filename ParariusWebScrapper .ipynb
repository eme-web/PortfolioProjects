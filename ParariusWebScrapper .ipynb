{
 "cells": [
  {
   "cell_type": "code",
   "execution_count": 1,
   "id": "1dc89e12",
   "metadata": {},
   "outputs": [],
   "source": [
    "#Importing libraries\n",
    "\n",
    "from bs4 import BeautifulSoup\n",
    "import requests\n",
    "import datetime\n",
    "import time\n",
    "import pandas as pd\n",
    "from csv import writer\n"
   ]
  },
  {
   "cell_type": "code",
   "execution_count": 2,
   "id": "8fdf0ef3",
   "metadata": {},
   "outputs": [],
   "source": [
    "# Create a Timestamp for your output to track when data was collected\n",
    "#date = datetime.date.today()\n",
    "#print(date)"
   ]
  },
  {
   "cell_type": "code",
   "execution_count": 3,
   "id": "1c27a437",
   "metadata": {},
   "outputs": [],
   "source": [
    "# Connect to Website and pull in data\n",
    "\n",
    "URL = \"https://www.pararius.com/apartments/amsterdam?ac=1\"\n",
    "\n",
    "headers = {\"User-Agent\": \"Mozilla/5.0 (Windows NT 10.0; Win64; x64) AppleWebKit/537.36 (KHTML, like Gecko) Chrome/78.0.3904.108 Safari/537.36\", \"Accept-Encoding\":\"gzip, deflate\", \"Accept\":\"text/html,application/xhtml+xml,application/xml;q=0.9,*/*;q=0.8\", \"DNT\":\"1\",\"Connection\":\"close\", \"Upgrade-Insecure-Requests\":\"1\"}\n",
    "\n",
    "page = requests.get(URL,headers=headers)\n",
    "\n",
    "soup = BeautifulSoup(page.content,\"html.parser\")\n",
    "\n",
    "\n",
    "lists = soup.find_all('section', class_=\"listing-search-item\")\n",
    "\n",
    "\n",
    "\n",
    "\n",
    "with open(\"housing.csv\", 'w',encoding='utf8',newline='') as f:\n",
    "    thewriter = writer(f)\n",
    "    header = ['Title','Location','Price','Area','Rooms']\n",
    "    thewriter.writerow(header)\n",
    "\n",
    "    for list in lists:\n",
    "        title = list.find('a', class_ =\"listing-search-item__link--title\").text.replace('\\n',' ')\n",
    "        location = list.find('div', class_ =\"listing-search-item__location\").text.replace('\\n',' ')\n",
    "        price = list.find('div', class_ =\"listing-search-item__price\").text.replace('\\n',' ')\n",
    "        area = list.find('li', class_ =\"illustrated-features__item illustrated-features__item--surface-area\").text.replace('\\n',' ')\n",
    "        rooms = list.find('li', class_ =\"illustrated-features__item illustrated-features__item--number-of-rooms\").text.replace('\\n',' ')\n",
    "\n",
    "\n",
    "        info = [title,location,price,area,rooms]\n",
    "        thewriter.writerow(info)\n",
    "\n",
    "\n",
    "\n",
    "                      \n",
    "\n",
    "\n"
   ]
  },
  {
   "cell_type": "code",
   "execution_count": null,
   "id": "2c926847",
   "metadata": {},
   "outputs": [],
   "source": []
  }
 ],
 "metadata": {
  "kernelspec": {
   "display_name": "Python 3 (ipykernel)",
   "language": "python",
   "name": "python3"
  },
  "language_info": {
   "codemirror_mode": {
    "name": "ipython",
    "version": 3
   },
   "file_extension": ".py",
   "mimetype": "text/x-python",
   "name": "python",
   "nbconvert_exporter": "python",
   "pygments_lexer": "ipython3",
   "version": "3.9.7"
  }
 },
 "nbformat": 4,
 "nbformat_minor": 5
}
